{
 "cells": [
  {
   "cell_type": "markdown",
   "metadata": {},
   "source": [
    "### **Balanceamento de Equações Químicas**\n",
    "\n",
    "> Método utilizado para determinar a quantidade de matéria de cada uma das substâncias participantes da reação, bem como estabelecer as proporções existentes entre os componentes.\n"
   ]
  },
  {
   "cell_type": "code",
   "execution_count": 1,
   "metadata": {},
   "outputs": [],
   "source": [
    "# Bibliotecas\n",
    "import equacao.coeficiente as eqc \n",
    "from pross import bal\n",
    "from metAlgebre.Algebre import solucao"
   ]
  },
  {
   "cell_type": "markdown",
   "metadata": {},
   "source": [
    "#### **Metodo Algébrico**\n",
    "\n",
    "> O método algébrico de balanceamento de equações químicas é um método sistemático e matemático que utiliza sistemas de equações lineares para encontrar os coeficientes estequiométricos que balanceiam a equação química. Esse método é particularmente útil para equações complexas."
   ]
  },
  {
   "cell_type": "markdown",
   "metadata": {},
   "source": [
    "Equação não balanceada:\n",
    "\n",
    "$$\n",
    "\\text{S}_8  +  \\text{O}_2 =  \\text{SO}_3 \\tag{1.0}\n",
    "$$"
   ]
  },
  {
   "cell_type": "code",
   "execution_count": 2,
   "metadata": {},
   "outputs": [],
   "source": [
    "eq = 'S8 + O2 = SO3'"
   ]
  },
  {
   "cell_type": "markdown",
   "metadata": {},
   "source": [
    "\n",
    "compostos envolvidos na reação (reagentes e produtos)."
   ]
  },
  {
   "cell_type": "code",
   "execution_count": 3,
   "metadata": {},
   "outputs": [
    {
     "name": "stdout",
     "output_type": "stream",
     "text": [
      " Os componentes são: \u001b[32m['S8', 'O2', 'SO3']\u001b[0m\n",
      "\n",
      "Reagentes: \u001b[32m['S8', 'O2']\u001b[0m\n",
      "\n",
      "Produto: \u001b[32m['SO3']\u001b[0m\n"
     ]
    }
   ],
   "source": [
    "print(f' Os componentes são: \\033[32m{bal.componentes(eq)}\\033[0m')\n",
    "\n",
    "print(f'\\nReagentes: \\033[32m{eqc.reagentes(eq)}\\033[0m')\n",
    "print(f'\\nProduto: \\033[32m{eqc.produtos(eq)}\\033[0m')"
   ]
  },
  {
   "cell_type": "markdown",
   "metadata": {},
   "source": [
    "\n",
    "Atribua uma variável a cada coeficiente desconhecido da equação.\n",
    "\n",
    "\n",
    "\n",
    "$$\n",
    "\\text{x} \\text{S}_8 + \\text{y} \\text{O}_2 = \\text{z} \\text{SO}_3 \\tag{1.2}\n",
    "$$\n",
    "\n",
    "\n"
   ]
  },
  {
   "cell_type": "markdown",
   "metadata": {},
   "source": [
    "Escreva uma equação para cada elemento presente na reação, baseando-se na conservação de massa (o número de átomos de cada elemento deve ser o mesmo nos reagentes e produtos).\n",
    "\n",
    "$$\n",
    "\\begin{cases}\n",
    "S: \\text{8x = z}\\\\\n",
    "O: \\text{2y = 3z}\n",
    "\\end{cases} \\tag{2.0}\n",
    "$$\n",
    "\n",
    "\n",
    "$$\n",
    "\\begin{cases}\n",
    "S: \\text{8x + 0y -z = 0} \\\\\n",
    "O: \\text{0x + 2y -3z = 0}\n",
    "\\end{cases} \\tag{2.1}\n",
    "$$\n",
    "\n",
    "\n"
   ]
  },
  {
   "cell_type": "code",
   "execution_count": 4,
   "metadata": {},
   "outputs": [
    {
     "name": "stdout",
     "output_type": "stream",
     "text": [
      "['S', 8, 0, -1]\n",
      "['O', 0, 2, -3]\n"
     ]
    }
   ],
   "source": [
    "for i in eqc.coeficientesAtomos(eq):\n",
    "    print(i)"
   ]
  },
  {
   "cell_type": "markdown",
   "metadata": {},
   "source": [
    "Tomaremos $\\text{x = 1}$ para fazer a transformação em uma matriz quadrada.\n",
    "\n",
    "$$\n",
    "\\begin{cases}\n",
    "S: \\text{0y -z = -8} \\\\\n",
    "O: \\text{2y -3z = 0}\n",
    "\\end{cases} \\tag{2.3}\n",
    "$$"
   ]
  },
  {
   "cell_type": "markdown",
   "metadata": {},
   "source": [
    "Produto matricial: \n",
    "\n",
    "- $\\text{A} \\cdot \\text{X = B}$\n",
    "\n",
    "$$\n",
    "\\left[\n",
    "\\begin{array}{cc}\n",
    "0 & -1 \\\\\n",
    "2 & -3 \n",
    "\\end{array}\n",
    "\\right]\n",
    "\n",
    "\\quad\n",
    "\\cdot\n",
    "\\quad\n",
    "\n",
    "\\left[\n",
    "\\begin{array}{c}\n",
    "y \\\\\n",
    "z\n",
    "\\end{array}\n",
    "\\right]\n",
    "\n",
    "\\quad\n",
    "=\n",
    "\\quad\n",
    "\n",
    "\\left[\n",
    "\\begin{array}{c}\n",
    "-8 \\\\\n",
    "0\n",
    "\\end{array}\n",
    "\\right] \\tag{3.0}\n",
    "$$\n"
   ]
  },
  {
   "cell_type": "code",
   "execution_count": 5,
   "metadata": {},
   "outputs": [
    {
     "name": "stdout",
     "output_type": "stream",
     "text": [
      "Matriz A:\n",
      "\u001b[32m[0, -1]\u001b[0m\n",
      "\u001b[32m[2, -3]\u001b[0m\n",
      "\n",
      "Mtriz X:\n",
      "[-8, 0]\n"
     ]
    }
   ],
   "source": [
    "print('Matriz A:')\n",
    "for c in solucao(eq)[0]:\n",
    "    print(f'\\033[32m{c}\\033[0m')\n",
    "\n",
    "\n",
    "print('\\nMtriz X:')\n",
    "print(solucao(eq)[1])"
   ]
  },
  {
   "cell_type": "markdown",
   "metadata": {},
   "source": [
    "$$\\text{A} \\cdot \\text{X = B} \\tag{3.0}$$\n",
    "\n",
    "- $\\text{A}$ = Matriz dos coeficientes.\n",
    "\n",
    "- $\\text{X}$ = Matriz das incógnitas.\n",
    "\n",
    "- $\\text{B}$ = Matriz dos termos constantes.\n",
    "\n",
    "$\\text{A}$ é uma matriz invertível, podemos encontrar $\\text{X}$ multiplicando ambos os lados da equação pela inversa de $\\text{A}$\n",
    "\n",
    "$$\\text{A}^{-1} \\cdot \\text{A} \\cdot \\text{X = B} \\cdot \\text{A}^{-1} \\tag{3.1}$$\n",
    "\n",
    "Como $\\text{A} \\cdot {A}^{-1} = {I}$. Onde $\\text{I}$ é a matriz indentidade.\n",
    "\n",
    "$$\\text{I} \\cdot {X} = {A}^{-1} \\cdot {B} \\tag{3.2}$$\n",
    "\n",
    "Multiplicação por $\\text{I}$ não altera o vetor. Portanto a solução é dada por:\n",
    "\n",
    "$$\\text{X} = {A}^{-1} \\cdot {B} \\tag{3.3}$$"
   ]
  },
  {
   "cell_type": "code",
   "execution_count": 6,
   "metadata": {},
   "outputs": [
    {
     "name": "stdout",
     "output_type": "stream",
     "text": [
      "Matriz X:\n"
     ]
    },
    {
     "data": {
      "text/plain": [
       "[1, 12, 8]"
      ]
     },
     "execution_count": 6,
     "metadata": {},
     "output_type": "execute_result"
    }
   ],
   "source": [
    "print('Matriz X:')\n",
    "bal.calculate_coefficients(eq)"
   ]
  },
  {
   "cell_type": "markdown",
   "metadata": {},
   "source": [
    "Atribuindo os coeficientes encontrados para o balanceamento as devidas incógnitas"
   ]
  },
  {
   "cell_type": "code",
   "execution_count": 9,
   "metadata": {},
   "outputs": [
    {
     "name": "stdout",
     "output_type": "stream",
     "text": [
      "Equação Balanceada:\n",
      " \u001b[32m1 S8 + 12 O2 = 8 SO3 \u001b[0m\n"
     ]
    }
   ],
   "source": [
    "# Balanceamento\n",
    "print(f'Equação Balanceada:\\n \\033[32m{bal.Balance(eq)}\\033[0m')"
   ]
  },
  {
   "cell_type": "markdown",
   "metadata": {},
   "source": [
    "- $\\text{1} {S}_8  +  \\text{12} {O}_2 =  \\text{8} {SO}_3$ $$\\tag{4.0}$$\n",
    "\n"
   ]
  }
 ],
 "metadata": {
  "kernelspec": {
   "display_name": "Python 3",
   "language": "python",
   "name": "python3"
  },
  "language_info": {
   "codemirror_mode": {
    "name": "ipython",
    "version": 3
   },
   "file_extension": ".py",
   "mimetype": "text/x-python",
   "name": "python",
   "nbconvert_exporter": "python",
   "pygments_lexer": "ipython3",
   "version": "3.11.9"
  }
 },
 "nbformat": 4,
 "nbformat_minor": 2
}
